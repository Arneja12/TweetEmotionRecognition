{
  "nbformat": 4,
  "nbformat_minor": 0,
  "metadata": {
    "colab": {
      "name": "TweetEmotionRecognition.ipynb",
      "provenance": [],
      "collapsed_sections": []
    },
    "kernelspec": {
      "display_name": "Python 3",
      "name": "python3"
    }
  },
  "cells": [
    {
      "cell_type": "markdown",
      "metadata": {
        "id": "wpjsRCVEcRrO"
      },
      "source": [
        "#**Tweet Emotion Recognition: Natural Language Processing with TensorFlow**"
      ]
    },
    {
      "cell_type": "markdown",
      "metadata": {
        "id": "KGaZgK8-cuJU"
      },
      "source": [
        " ## **Task 1: Setup and Imports**\n",
        "\n",
        "1. Installing Hugging Face's nlp package\n",
        "2. Importing libraries"
      ]
    },
    {
      "cell_type": "code",
      "metadata": {
        "colab": {
          "base_uri": "https://localhost:8080/"
        },
        "id": "ESvDooIvcfKN",
        "outputId": "85d40e55-d9df-4c79-d1e9-f598fe21658d"
      },
      "source": [
        "!pip install nlp"
      ],
      "execution_count": 1,
      "outputs": [
        {
          "output_type": "stream",
          "text": [
            "Requirement already satisfied: nlp in /usr/local/lib/python3.6/dist-packages (0.4.0)\n",
            "Requirement already satisfied: requests>=2.19.0 in /usr/local/lib/python3.6/dist-packages (from nlp) (2.23.0)\n",
            "Requirement already satisfied: tqdm>=4.27 in /usr/local/lib/python3.6/dist-packages (from nlp) (4.41.1)\n",
            "Requirement already satisfied: filelock in /usr/local/lib/python3.6/dist-packages (from nlp) (3.0.12)\n",
            "Requirement already satisfied: numpy in /usr/local/lib/python3.6/dist-packages (from nlp) (1.18.5)\n",
            "Requirement already satisfied: xxhash in /usr/local/lib/python3.6/dist-packages (from nlp) (2.0.0)\n",
            "Requirement already satisfied: dataclasses; python_version < \"3.7\" in /usr/local/lib/python3.6/dist-packages (from nlp) (0.7)\n",
            "Requirement already satisfied: dill in /usr/local/lib/python3.6/dist-packages (from nlp) (0.3.3)\n",
            "Requirement already satisfied: pandas in /usr/local/lib/python3.6/dist-packages (from nlp) (1.1.4)\n",
            "Requirement already satisfied: pyarrow>=0.16.0 in /usr/local/lib/python3.6/dist-packages (from nlp) (2.0.0)\n",
            "Requirement already satisfied: certifi>=2017.4.17 in /usr/local/lib/python3.6/dist-packages (from requests>=2.19.0->nlp) (2020.6.20)\n",
            "Requirement already satisfied: chardet<4,>=3.0.2 in /usr/local/lib/python3.6/dist-packages (from requests>=2.19.0->nlp) (3.0.4)\n",
            "Requirement already satisfied: urllib3!=1.25.0,!=1.25.1,<1.26,>=1.21.1 in /usr/local/lib/python3.6/dist-packages (from requests>=2.19.0->nlp) (1.24.3)\n",
            "Requirement already satisfied: idna<3,>=2.5 in /usr/local/lib/python3.6/dist-packages (from requests>=2.19.0->nlp) (2.10)\n",
            "Requirement already satisfied: python-dateutil>=2.7.3 in /usr/local/lib/python3.6/dist-packages (from pandas->nlp) (2.8.1)\n",
            "Requirement already satisfied: pytz>=2017.2 in /usr/local/lib/python3.6/dist-packages (from pandas->nlp) (2018.9)\n",
            "Requirement already satisfied: six>=1.5 in /usr/local/lib/python3.6/dist-packages (from python-dateutil>=2.7.3->pandas->nlp) (1.15.0)\n"
          ],
          "name": "stdout"
        }
      ]
    },
    {
      "cell_type": "code",
      "metadata": {
        "id": "xNNwSStSdhUx"
      },
      "source": [
        "import matplotlib.pyplot as plt\n",
        "import numpy as np\n",
        "import pandas as pd\n",
        "import tensorflow as tf\n",
        "import random\n",
        "import nlp"
      ],
      "execution_count": 2,
      "outputs": []
    },
    {
      "cell_type": "code",
      "metadata": {
        "id": "Od4RJXgcedzF"
      },
      "source": [
        "def show_history(h):\n",
        "    epochs_trained = len(h.history['loss'])\n",
        "    plt.figure(figsize=(16, 6))\n",
        "\n",
        "    plt.subplot(1, 2, 1)\n",
        "    plt.plot(range(0, epochs_trained), h.history.get('accuracy'), label='Training')\n",
        "    plt.plot(range(0, epochs_trained), h.history.get('val_accuracy'), label='Validation')\n",
        "    plt.ylim([0., 1.])\n",
        "    plt.xlabel('Epochs')\n",
        "    plt.ylabel('Accuracy')\n",
        "    plt.legend()\n",
        "\n",
        "    plt.subplot(1, 2, 2)\n",
        "    plt.plot(range(0, epochs_trained), h.history.get('loss'), label='Training')\n",
        "    plt.plot(range(0, epochs_trained), h.history.get('val_loss'), label='Validation')\n",
        "    plt.xlabel('Epochs')\n",
        "    plt.ylabel('Loss')\n",
        "    plt.legend()\n",
        "    plt.show()"
      ],
      "execution_count": 3,
      "outputs": []
    },
    {
      "cell_type": "code",
      "metadata": {
        "id": "Rg4V-rc-hVBa"
      },
      "source": [
        "def show_confusion_matrix(y_true, y_pred, classes):\n",
        "    from sklearn.metrics import confusion_matrix\n",
        "    \n",
        "    cm = confusion_matrix(y_true, y_pred, normalize='true')\n",
        "\n",
        "    plt.figure(figsize=(8, 8))\n",
        "    sp = plt.subplot(1, 1, 1)\n",
        "    ctx = sp.matshow(cm)\n",
        "    plt.xticks(list(range(0, 6)), labels=classes)\n",
        "    plt.yticks(list(range(0, 6)), labels=classes)\n",
        "    plt.colorbar(ctx)\n",
        "    plt.show()"
      ],
      "execution_count": 4,
      "outputs": []
    },
    {
      "cell_type": "markdown",
      "metadata": {
        "id": "6pAOTvPfsHkt"
      },
      "source": [
        "## **Task 2: Importing Data**\n",
        "\n",
        "1. Importing the Tweet Emotion dataset\n",
        "2. Creating train, validation and test sets\n",
        "3. Extracting tweets and labels from the examples"
      ]
    },
    {
      "cell_type": "code",
      "metadata": {
        "colab": {
          "base_uri": "https://localhost:8080/"
        },
        "id": "QzwyJ21pd_bS",
        "outputId": "908026ed-8924-4594-d0cf-879dd74a9435"
      },
      "source": [
        "dataset=nlp.load_dataset('emotion')"
      ],
      "execution_count": 5,
      "outputs": [
        {
          "output_type": "stream",
          "text": [
            "Using custom data configuration default\n"
          ],
          "name": "stderr"
        }
      ]
    },
    {
      "cell_type": "code",
      "metadata": {
        "colab": {
          "base_uri": "https://localhost:8080/"
        },
        "id": "s0YIDWTMfzE0",
        "outputId": "c6db4d16-830f-4770-9c31-4daf6be73fb8"
      },
      "source": [
        "dataset"
      ],
      "execution_count": 6,
      "outputs": [
        {
          "output_type": "execute_result",
          "data": {
            "text/plain": [
              "{'test': Dataset(features: {'text': Value(dtype='string', id=None), 'label': Value(dtype='string', id=None)}, num_rows: 2000),\n",
              " 'train': Dataset(features: {'text': Value(dtype='string', id=None), 'label': Value(dtype='string', id=None)}, num_rows: 16000),\n",
              " 'validation': Dataset(features: {'text': Value(dtype='string', id=None), 'label': Value(dtype='string', id=None)}, num_rows: 2000)}"
            ]
          },
          "metadata": {
            "tags": []
          },
          "execution_count": 6
        }
      ]
    },
    {
      "cell_type": "code",
      "metadata": {
        "id": "BEKr1Ed2fzI9"
      },
      "source": [
        "train=dataset['train']\n",
        "val=dataset['validation']\n",
        "test=dataset['test']"
      ],
      "execution_count": 7,
      "outputs": []
    },
    {
      "cell_type": "code",
      "metadata": {
        "id": "xoTkvzupfzCc"
      },
      "source": [
        "def get_tweets(data):\n",
        "  tweets=list(data['text'])\n",
        "  labels=list(data['label'])\n",
        "  return tweets, labels"
      ],
      "execution_count": 8,
      "outputs": []
    },
    {
      "cell_type": "code",
      "metadata": {
        "id": "mxjgHqjad_hD"
      },
      "source": [
        "tweets, labels= get_tweets(train)"
      ],
      "execution_count": 9,
      "outputs": []
    },
    {
      "cell_type": "code",
      "metadata": {
        "colab": {
          "base_uri": "https://localhost:8080/"
        },
        "id": "3Es7GhzLd_mq",
        "outputId": "00526a77-fc5e-4565-8cee-663264474576"
      },
      "source": [
        "tweets[0] , labels[0]"
      ],
      "execution_count": 10,
      "outputs": [
        {
          "output_type": "execute_result",
          "data": {
            "text/plain": [
              "('i didnt feel humiliated', 'sadness')"
            ]
          },
          "metadata": {
            "tags": []
          },
          "execution_count": 10
        }
      ]
    },
    {
      "cell_type": "markdown",
      "metadata": {
        "id": "9gzfLTS2j3la"
      },
      "source": [
        "## **Task 3: Tokenizer**\n",
        "\n",
        "1. Tokenizing the tweets"
      ]
    },
    {
      "cell_type": "code",
      "metadata": {
        "id": "yPHb3IY4d_fJ"
      },
      "source": [
        "from tensorflow.keras.preprocessing.text import Tokenizer"
      ],
      "execution_count": 11,
      "outputs": []
    },
    {
      "cell_type": "code",
      "metadata": {
        "colab": {
          "base_uri": "https://localhost:8080/"
        },
        "id": "xrifl1BBd_Zz",
        "outputId": "13e28099-653f-4ce0-f225-10e52272406c"
      },
      "source": [
        "tokenizer=Tokenizer(num_words=10000,oov_token='<OOV>')\n",
        "tokenizer.fit_on_texts(tweets)\n",
        "print(tokenizer.texts_to_sequences([tweets[0]]))"
      ],
      "execution_count": 12,
      "outputs": [
        {
          "output_type": "stream",
          "text": [
            "[[2, 139, 3, 679]]\n"
          ],
          "name": "stdout"
        }
      ]
    },
    {
      "cell_type": "markdown",
      "metadata": {
        "id": "RsDFeB4lqBvy"
      },
      "source": [
        "## **Task 4: Padding and Truncating Sequences**\n",
        "\n",
        "1. Checking length of the tweets\n",
        "2. Creating padded sequences"
      ]
    },
    {
      "cell_type": "code",
      "metadata": {
        "colab": {
          "base_uri": "https://localhost:8080/",
          "height": 282
        },
        "id": "UVQr1Xk8qCDB",
        "outputId": "b19a4463-c5ab-4f98-d659-650551ce5173"
      },
      "source": [
        "lengths=[len(t.split(' ')) for t in tweets]\n",
        "\n",
        "plt.hist(lengths)\n",
        "plt.show"
      ],
      "execution_count": 13,
      "outputs": [
        {
          "output_type": "execute_result",
          "data": {
            "text/plain": [
              "<function matplotlib.pyplot.show>"
            ]
          },
          "metadata": {
            "tags": []
          },
          "execution_count": 13
        },
        {
          "output_type": "display_data",
          "data": {
            "image/png": "[encoded data removed]",
            "text/plain": [
              "<Figure size 432x288 with 1 Axes>"
            ]
          },
          "metadata": {
            "tags": [],
            "needs_background": "light"
          }
        }
      ]
    },
    {
      "cell_type": "code",
      "metadata": {
        "id": "uo_c17nSsjO5"
      },
      "source": [
        "from tensorflow.keras.preprocessing.sequence import pad_sequences"
      ],
      "execution_count": 14,
      "outputs": []
    },
    {
      "cell_type": "code",
      "metadata": {
        "id": "LJ7xhfWYqCSL"
      },
      "source": [
        "def get_sequences(tokenizer, tweets):\n",
        "  sequences = tokenizer.texts_to_sequences(tweets)\n",
        "  padded_sequences=pad_sequences(sequences, padding='post', truncating='post', maxlen=50)\n",
        "  return padded_sequences"
      ],
      "execution_count": 15,
      "outputs": []
    },
    {
      "cell_type": "code",
      "metadata": {
        "id": "aRCiZGTlqCav"
      },
      "source": [
        "padded_train_sequence=get_sequences(tokenizer, tweets)"
      ],
      "execution_count": 16,
      "outputs": []
    },
    {
      "cell_type": "code",
      "metadata": {
        "id": "BE7UDK-NqCoX",
        "colab": {
          "base_uri": "https://localhost:8080/"
        },
        "outputId": "74cec0fa-ad61-4fcd-d21e-acfca373906e"
      },
      "source": [
        "padded_train_sequence[0]"
      ],
      "execution_count": 17,
      "outputs": [
        {
          "output_type": "execute_result",
          "data": {
            "text/plain": [
              "array([  2, 139,   3, 679,   0,   0,   0,   0,   0,   0,   0,   0,   0,\n",
              "         0,   0,   0,   0,   0,   0,   0,   0,   0,   0,   0,   0,   0,\n",
              "         0,   0,   0,   0,   0,   0,   0,   0,   0,   0,   0,   0,   0,\n",
              "         0,   0,   0,   0,   0,   0,   0,   0,   0,   0,   0], dtype=int32)"
            ]
          },
          "metadata": {
            "tags": []
          },
          "execution_count": 17
        }
      ]
    },
    {
      "cell_type": "markdown",
      "metadata": {
        "id": "rGGNxaR-2Mn7"
      },
      "source": [
        "## **Task 5: Preparing the Labels**\n",
        "\n",
        "1. Creating classes to index and index to classes dictionaries\n",
        "2. Converting text labels to numeric labels"
      ]
    },
    {
      "cell_type": "code",
      "metadata": {
        "colab": {
          "base_uri": "https://localhost:8080/"
        },
        "id": "alWe9g8GfLok",
        "outputId": "0c995ff7-f6c8-437a-d89f-0e1e388ec9d5"
      },
      "source": [
        "classes=set(labels)\n",
        "print(classes)"
      ],
      "execution_count": 18,
      "outputs": [
        {
          "output_type": "stream",
          "text": [
            "{'joy', 'sadness', 'fear', 'surprise', 'love', 'anger'}\n"
          ],
          "name": "stdout"
        }
      ]
    },
    {
      "cell_type": "code",
      "metadata": {
        "id": "K4_s7zEdqClS",
        "colab": {
          "base_uri": "https://localhost:8080/",
          "height": 265
        },
        "outputId": "98b45a0b-9b4e-4102-e3d2-f8311ed843ff"
      },
      "source": [
        "plt.hist(labels,bins=11)\n",
        "plt.show()"
      ],
      "execution_count": 19,
      "outputs": [
        {
          "output_type": "display_data",
          "data": {
            "image/png": "[encoded data removed]",
            "text/plain": [
              "<Figure size 432x288 with 1 Axes>"
            ]
          },
          "metadata": {
            "tags": [],
            "needs_background": "light"
          }
        }
      ]
    },
    {
      "cell_type": "code",
      "metadata": {
        "id": "bYyGlPy6qCjY"
      },
      "source": [
        "classes_to_index=dict((c,i) for i,c in enumerate(classes))\n",
        "index_to_labels=dict((v,k) for v,k in enumerate(classes_to_index))"
      ],
      "execution_count": 20,
      "outputs": []
    },
    {
      "cell_type": "code",
      "metadata": {
        "id": "A7tPe_VVqCge",
        "colab": {
          "base_uri": "https://localhost:8080/"
        },
        "outputId": "dea3f34e-fe69-4631-a7ff-0557c5e24c8f"
      },
      "source": [
        "classes_to_index"
      ],
      "execution_count": 21,
      "outputs": [
        {
          "output_type": "execute_result",
          "data": {
            "text/plain": [
              "{'anger': 5, 'fear': 2, 'joy': 0, 'love': 4, 'sadness': 1, 'surprise': 3}"
            ]
          },
          "metadata": {
            "tags": []
          },
          "execution_count": 21
        }
      ]
    },
    {
      "cell_type": "code",
      "metadata": {
        "id": "jUGdEXakqCe5",
        "colab": {
          "base_uri": "https://localhost:8080/"
        },
        "outputId": "1410ba2c-c165-43c2-9186-b3af38b98f1b"
      },
      "source": [
        "index_to_labels"
      ],
      "execution_count": 22,
      "outputs": [
        {
          "output_type": "execute_result",
          "data": {
            "text/plain": [
              "{0: 'joy', 1: 'sadness', 2: 'fear', 3: 'surprise', 4: 'love', 5: 'anger'}"
            ]
          },
          "metadata": {
            "tags": []
          },
          "execution_count": 22
        }
      ]
    },
    {
      "cell_type": "code",
      "metadata": {
        "id": "DOzOdS4BqCY9"
      },
      "source": [
        "names_to_ids = lambda labels: np.array([classes_to_index.get(x) for x in labels])"
      ],
      "execution_count": 23,
      "outputs": []
    },
    {
      "cell_type": "code",
      "metadata": {
        "colab": {
          "base_uri": "https://localhost:8080/"
        },
        "id": "UI7qsGXwlXCP",
        "outputId": "2862d4e3-6615-4df3-bc2e-1610b93c9922"
      },
      "source": [
        "train_labels = names_to_ids(labels)\n",
        "print(train_labels[0])"
      ],
      "execution_count": 24,
      "outputs": [
        {
          "output_type": "stream",
          "text": [
            "1\n"
          ],
          "name": "stdout"
        }
      ]
    },
    {
      "cell_type": "markdown",
      "metadata": {
        "id": "I73QwhGElXiK"
      },
      "source": [
        "## **Task 6: Creating the Model**\n",
        "\n",
        "1. Creating the model\n",
        "2. Compiling the model"
      ]
    },
    {
      "cell_type": "code",
      "metadata": {
        "colab": {
          "base_uri": "https://localhost:8080/"
        },
        "id": "RcsE9P37lXxp",
        "outputId": "ef8bbc41-aed0-4c4f-8b69-c246aa2b9e10"
      },
      "source": [
        "model=tf.keras.models.Sequential([\n",
        "                                  tf.keras.layers.Embedding(10000, 16, input_length=50),\n",
        "                                  tf.keras.layers.Bidirectional(tf.keras.layers.LSTM(20, return_sequences=True)),\n",
        "                                  tf.keras.layers.Bidirectional(tf.keras.layers.LSTM(20)),\n",
        "                                  tf.keras.layers.Dense(6, activation='softmax')\n",
        "])\n",
        "  \n",
        "model.compile(\n",
        "    loss='sparse_categorical_crossentropy',\n",
        "    optimizer='adam',\n",
        "    metrics=['accuracy']\n",
        ")\n",
        "model.summary()"
      ],
      "execution_count": 25,
      "outputs": [
        {
          "output_type": "stream",
          "text": [
            "Model: \"sequential\"\n",
            "_________________________________________________________________\n",
            "Layer (type)                 Output Shape              Param #   \n",
            "=================================================================\n",
            "embedding (Embedding)        (None, 50, 16)            160000    \n",
            "_________________________________________________________________\n",
            "bidirectional (Bidirectional (None, 50, 40)            5920      \n",
            "_________________________________________________________________\n",
            "bidirectional_1 (Bidirection (None, 40)                9760      \n",
            "_________________________________________________________________\n",
            "dense (Dense)                (None, 6)                 246       \n",
            "=================================================================\n",
            "Total params: 175,926\n",
            "Trainable params: 175,926\n",
            "Non-trainable params: 0\n",
            "_________________________________________________________________\n"
          ],
          "name": "stdout"
        }
      ]
    },
    {
      "cell_type": "markdown",
      "metadata": {
        "id": "9_oQMkj_spFQ"
      },
      "source": [
        "## **Task 7: Training the Model**\n",
        "\n",
        "1. Preparing a validation set\n",
        "2. Training the model"
      ]
    },
    {
      "cell_type": "code",
      "metadata": {
        "id": "Q1LKQYFospWv"
      },
      "source": [
        "val_tweets, val_labels = get_tweets(val)\n",
        "val_sequences = get_sequences(tokenizer, val_tweets)\n",
        "val_labels = names_to_ids(val_labels)"
      ],
      "execution_count": 26,
      "outputs": []
    },
    {
      "cell_type": "code",
      "metadata": {
        "colab": {
          "base_uri": "https://localhost:8080/"
        },
        "id": "5QolMYH4PYsB",
        "outputId": "fad8f572-c1e0-40cd-cc72-5319c3352387"
      },
      "source": [
        "val_tweets[0], val_labels[0]"
      ],
      "execution_count": 27,
      "outputs": [
        {
          "output_type": "execute_result",
          "data": {
            "text/plain": [
              "('im feeling quite sad and sorry for myself but ill snap out of it soon', 1)"
            ]
          },
          "metadata": {
            "tags": []
          },
          "execution_count": 27
        }
      ]
    },
    {
      "cell_type": "code",
      "metadata": {
        "colab": {
          "base_uri": "https://localhost:8080/"
        },
        "id": "CQr1VjzQPY95",
        "outputId": "9206945a-bc5d-461b-8be7-65bb5aeed256"
      },
      "source": [
        "h = model.fit(\n",
        "    padded_train_sequence, train_labels,\n",
        "    validation_data=(val_sequences, val_labels),\n",
        "    epochs=20,\n",
        "    callbacks = [\n",
        "                 tf.keras.callbacks.EarlyStopping(monitor='val_accuracy', patience=2)\n",
        "    ]\n",
        ")"
      ],
      "execution_count": 28,
      "outputs": [
        {
          "output_type": "stream",
          "text": [
            "Epoch 1/20\n",
            "500/500 [==============================] - 21s 41ms/step - loss: 1.3613 - accuracy: 0.4746 - val_loss: 0.9410 - val_accuracy: 0.6625\n",
            "Epoch 2/20\n",
            "500/500 [==============================] - 19s 39ms/step - loss: 0.6639 - accuracy: 0.7639 - val_loss: 0.5960 - val_accuracy: 0.7890\n",
            "Epoch 3/20\n",
            "500/500 [==============================] - 19s 39ms/step - loss: 0.3736 - accuracy: 0.8792 - val_loss: 0.4832 - val_accuracy: 0.8460\n",
            "Epoch 4/20\n",
            "500/500 [==============================] - 19s 39ms/step - loss: 0.2594 - accuracy: 0.9206 - val_loss: 0.5672 - val_accuracy: 0.8205\n",
            "Epoch 5/20\n",
            "500/500 [==============================] - 20s 41ms/step - loss: 0.1885 - accuracy: 0.9443 - val_loss: 0.4454 - val_accuracy: 0.8680\n",
            "Epoch 6/20\n",
            "500/500 [==============================] - 20s 40ms/step - loss: 0.1407 - accuracy: 0.9588 - val_loss: 0.4481 - val_accuracy: 0.8735\n",
            "Epoch 7/20\n",
            "500/500 [==============================] - 19s 39ms/step - loss: 0.1097 - accuracy: 0.9678 - val_loss: 0.4684 - val_accuracy: 0.8770\n",
            "Epoch 8/20\n",
            "500/500 [==============================] - 20s 40ms/step - loss: 0.0967 - accuracy: 0.9708 - val_loss: 0.4459 - val_accuracy: 0.8820\n",
            "Epoch 9/20\n",
            "500/500 [==============================] - 19s 39ms/step - loss: 0.0847 - accuracy: 0.9744 - val_loss: 0.4112 - val_accuracy: 0.8855\n",
            "Epoch 10/20\n",
            "500/500 [==============================] - 19s 38ms/step - loss: 0.0673 - accuracy: 0.9793 - val_loss: 0.4495 - val_accuracy: 0.8810\n",
            "Epoch 11/20\n",
            "500/500 [==============================] - 19s 38ms/step - loss: 0.0597 - accuracy: 0.9817 - val_loss: 0.4715 - val_accuracy: 0.8880\n",
            "Epoch 12/20\n",
            "500/500 [==============================] - 19s 38ms/step - loss: 0.0543 - accuracy: 0.9843 - val_loss: 0.4618 - val_accuracy: 0.8815\n",
            "Epoch 13/20\n",
            "500/500 [==============================] - 19s 38ms/step - loss: 0.0496 - accuracy: 0.9849 - val_loss: 0.4864 - val_accuracy: 0.8835\n"
          ],
          "name": "stdout"
        }
      ]
    },
    {
      "cell_type": "markdown",
      "metadata": {
        "id": "fu3evtlNmOLC"
      },
      "source": [
        "## **Task 8: Evaluating the Model**\n",
        "\n",
        "1. Visualizing training history\n",
        "2. Prepraring a test set\n",
        "3. A look at individual predictions on the test set\n",
        "4. A look at all predictions on the test set"
      ]
    },
    {
      "cell_type": "code",
      "metadata": {
        "colab": {
          "base_uri": "https://localhost:8080/",
          "height": 392
        },
        "id": "tfDjaVoue2Q8",
        "outputId": "4a0ecf72-7490-4c7b-de67-f9830961c2d3"
      },
      "source": [
        "show_history(h)"
      ],
      "execution_count": 29,
      "outputs": [
        {
          "output_type": "display_data",
          "data": {
            "image/png": "[encoded data removed]",
            "text/plain": [
              "<Figure size 1152x432 with 2 Axes>"
            ]
          },
          "metadata": {
            "tags": [],
            "needs_background": "light"
          }
        }
      ]
    },
    {
      "cell_type": "code",
      "metadata": {
        "id": "Ci_g5Sm4oXE9"
      },
      "source": [
        "test_tweets, test_labels = get_tweets(test)\n",
        "test_sequences = get_sequences(tokenizer, test_tweets)\n",
        "test_labels= names_to_ids(test_labels)"
      ],
      "execution_count": 30,
      "outputs": []
    },
    {
      "cell_type": "code",
      "metadata": {
        "id": "66JYbU2SoYzY",
        "colab": {
          "base_uri": "https://localhost:8080/"
        },
        "outputId": "10f664c3-1c44-4403-d688-8d7311fbac66"
      },
      "source": [
        "_ = model.evaluate(test_sequences, test_labels)"
      ],
      "execution_count": 31,
      "outputs": [
        {
          "output_type": "stream",
          "text": [
            "63/63 [==============================] - 1s 11ms/step - loss: 0.4806 - accuracy: 0.8830\n"
          ],
          "name": "stdout"
        }
      ]
    },
    {
      "cell_type": "code",
      "metadata": {
        "id": "GYK9W5DGrSGw",
        "colab": {
          "base_uri": "https://localhost:8080/"
        },
        "outputId": "b2aeee50-44b6-4898-d90e-f2d69b349b00"
      },
      "source": [
        "i = random.randint(0, len(test_labels) - 1)\n",
        "\n",
        "print('Sentence:', test_tweets[i])\n",
        "print('Emotion:', index_to_labels[test_labels[i]])\n",
        "\n",
        "p = model.predict_classes(np.expand_dims(test_sequences[i], axis=0))[0]\n",
        "\n",
        "print('Predicted Emotion:', index_to_labels.get(p))"
      ],
      "execution_count": 32,
      "outputs": [
        {
          "output_type": "stream",
          "text": [
            "Sentence: i never feel like im not supporting\n",
            "Emotion: joy\n",
            "WARNING:tensorflow:From <ipython-input-32-abdd5c00b9bb>:6: Sequential.predict_classes (from tensorflow.python.keras.engine.sequential) is deprecated and will be removed after 2021-01-01.\n",
            "Instructions for updating:\n",
            "Please use instead:* `np.argmax(model.predict(x), axis=-1)`,   if your model does multi-class classification   (e.g. if it uses a `softmax` last-layer activation).* `(model.predict(x) > 0.5).astype(\"int32\")`,   if your model does binary classification   (e.g. if it uses a `sigmoid` last-layer activation).\n",
            "Predicted Emotion: joy\n"
          ],
          "name": "stdout"
        }
      ]
    },
    {
      "cell_type": "code",
      "metadata": {
        "id": "KkPj63uSrSD7",
        "colab": {
          "base_uri": "https://localhost:8080/"
        },
        "outputId": "93dbc4a9-f840-4ed4-f53f-a47dc727cdb1"
      },
      "source": [
        "preds = model.predict_classes(test_sequences)\n",
        "preds.shape, test_labels.shape"
      ],
      "execution_count": 33,
      "outputs": [
        {
          "output_type": "execute_result",
          "data": {
            "text/plain": [
              "((2000,), (2000,))"
            ]
          },
          "metadata": {
            "tags": []
          },
          "execution_count": 33
        }
      ]
    },
    {
      "cell_type": "code",
      "metadata": {
        "id": "spfYwPVsrSBk",
        "colab": {
          "base_uri": "https://localhost:8080/",
          "height": 472
        },
        "outputId": "a72e6e6a-251d-4782-d3f5-53123c00619f"
      },
      "source": [
        "show_confusion_matrix(test_labels, preds, list(classes))"
      ],
      "execution_count": 34,
      "outputs": [
        {
          "output_type": "display_data",
          "data": {
            "image/png": "[encoded data removed]",
            "text/plain": [
              "<Figure size 576x576 with 2 Axes>"
            ]
          },
          "metadata": {
            "tags": [],
            "needs_background": "light"
          }
        }
      ]
    }
  ]
}